{
 "cells": [
  {
   "cell_type": "code",
   "execution_count": 5,
   "id": "a59e6163-43fc-46a9-b1bf-38623c29d215",
   "metadata": {},
   "outputs": [],
   "source": [
    "import pickle\n",
    "from pathlib import Path\n",
    "\n",
    "import PIL\n",
    "import PIL.Image\n",
    "import numpy as np\n",
    "from sklearn.model_selection import train_test_split\n",
    "from sklearn.linear_model import LogisticRegression\n",
    "from sklearn.metrics import accuracy_score\n",
    "import matplotlib.pyplot as plt"
   ]
  },
  {
   "cell_type": "markdown",
   "id": "bc74659a-86fa-46d7-a8ed-b76c837e02b2",
   "metadata": {},
   "source": [
    "# Задание 1\n",
    "## Загрузка данных"
   ]
  },
  {
   "cell_type": "code",
   "execution_count": 6,
   "id": "7b3c9728-ff2a-424b-8d19-19bc66605512",
   "metadata": {},
   "outputs": [],
   "source": [
    "def load_dataset(dataset_path, filename):\n",
    "    x, y = [], []\n",
    "\n",
    "    for class_folder in dataset_path.iterdir():\n",
    "        if class_folder.is_dir():\n",
    "            for f in class_folder.iterdir():\n",
    "                if f.is_file() and f.suffix.lower() == \".png\":\n",
    "                    try:\n",
    "                        img = PIL.Image.open(f).convert('L')\n",
    "                    except PIL.UnidentifiedImageError:\n",
    "                        continue\n",
    "                    img_array = np.array(img).flatten()\n",
    "                    img_array = img_array / 255.0\n",
    "\n",
    "                    x.append(img_array)\n",
    "                    y.append(class_folder.name)\n",
    "\n",
    "    x = np.array(x)\n",
    "    y = np.array(y)\n",
    "\n",
    "    with open(f'{filename}.pickle', 'wb') as f:\n",
    "        pickle.dump((x, y), f)\n",
    "    return x, y"
   ]
  },
  {
   "cell_type": "code",
   "execution_count": 7,
   "id": "a536a743-6d10-4d5b-9557-7ba8befc0974",
   "metadata": {},
   "outputs": [],
   "source": [
    "def load_pickle(file_name):\n",
    "    with open(f'{file_name}.pickle', 'rb') as f:\n",
    "        x, y = pickle.load(f)\n",
    "    return x, y"
   ]
  },
  {
   "cell_type": "markdown",
   "id": "66ebd907-6d5e-4b53-a84a-f9d8e1267983",
   "metadata": {},
   "source": [
    "load_dataset из разархированной папки с датасетом считывает изображения и для дальнейшей более быстрой загрузки сохраняется в pickle файл\n",
    "\n",
    "В данной работе в качестве тестовой выборки используется notMNIST_small"
   ]
  },
  {
   "cell_type": "code",
   "execution_count": 8,
   "id": "33ccd3f0-1e90-4351-9e5a-2dd39cb0bec7",
   "metadata": {},
   "outputs": [
    {
     "data": {
      "text/plain": [
       "(array([[0.        , 0.        , 0.        , ..., 0.        , 0.        ,\n",
       "         0.        ],\n",
       "        [0.        , 0.        , 0.        , ..., 0.29803922, 0.        ,\n",
       "         0.01568627],\n",
       "        [0.        , 0.        , 0.        , ..., 0.        , 0.        ,\n",
       "         0.        ],\n",
       "        ...,\n",
       "        [0.        , 0.00392157, 0.        , ..., 0.        , 0.        ,\n",
       "         0.        ],\n",
       "        [0.72941176, 1.        , 0.99607843, ..., 0.03137255, 0.        ,\n",
       "         0.00392157],\n",
       "        [0.        , 0.00392157, 0.14509804, ..., 0.        , 0.        ,\n",
       "         0.        ]]),\n",
       " array(['G', 'G', 'G', ..., 'D', 'D', 'D'], dtype='<U1'))"
      ]
     },
     "execution_count": 8,
     "metadata": {},
     "output_type": "execute_result"
    }
   ],
   "source": [
    "load_dataset(Path(\"/home/user/Education/ML/lab1/notMNIST_large\"), \"large\")\n",
    "load_dataset(Path(\"/home/user/Education/ML/lab1/notMNIST_small\"), \"small\")"
   ]
  },
  {
   "cell_type": "code",
   "execution_count": 9,
   "id": "9c18e1ec-da75-4ac1-ae89-19534e626e37",
   "metadata": {},
   "outputs": [],
   "source": [
    "x_test, y_test = load_pickle(\"small\")"
   ]
  },
  {
   "cell_type": "code",
   "execution_count": 10,
   "id": "a535b1fd-3cbd-4e8f-983c-a936eda463ed",
   "metadata": {},
   "outputs": [],
   "source": [
    "x, y = load_pickle(\"large\")"
   ]
  },
  {
   "cell_type": "markdown",
   "id": "fb2e7dfa-0b33-4ec2-a45f-b7b1a0ecf32b",
   "metadata": {},
   "source": [
    "## Загрузка случайных изображений"
   ]
  },
  {
   "cell_type": "code",
   "execution_count": 12,
   "id": "a11f4935-6831-47d6-a341-1f8fbba778cd",
   "metadata": {},
   "outputs": [
    {
     "data": {
      "image/png": "[encoded data removed]",
      "text/plain": [
       "<Figure size 200x200 with 1 Axes>"
      ]
     },
     "metadata": {},
     "output_type": "display_data"
    },
    {
     "data": {
      "image/png": "[encoded data removed]",
      "text/plain": [
       "<Figure size 200x200 with 1 Axes>"
      ]
     },
     "metadata": {},
     "output_type": "display_data"
    },
    {
     "data": {
      "image/png": "[encoded data removed]",
      "text/plain": [
       "<Figure size 200x200 with 1 Axes>"
      ]
     },
     "metadata": {},
     "output_type": "display_data"
    },
    {
     "data": {
      "image/png": "[encoded data removed]",
      "text/plain": [
       "<Figure size 200x200 with 1 Axes>"
      ]
     },
     "metadata": {},
     "output_type": "display_data"
    },
    {
     "data": {
      "image/png": "[encoded data removed]",
      "text/plain": [
       "<Figure size 200x200 with 1 Axes>"
      ]
     },
     "metadata": {},
     "output_type": "display_data"
    }
   ],
   "source": [
    "import random\n",
    "\n",
    "for i in range(5):\n",
    "    random_index = random.choice(range(len(x)))\n",
    "    random_image = x[random_index]\n",
    "    label = y[random_index]\n",
    "    \n",
    "    image_size = int(np.sqrt(random_image.size))  # предполагаем квадратное изображение\n",
    "    reshaped_image = random_image.reshape((image_size, image_size))\n",
    "\n",
    "    plt.figure(figsize=(2, 2))\n",
    "    plt.imshow(reshaped_image, cmap='gray')\n",
    "    plt.title(f\"Class: {label}\")\n",
    "    plt.axis('off')\n",
    "    plt.show()"
   ]
  },
  {
   "cell_type": "markdown",
   "id": "f593d7c4-769e-4296-8d38-82f081831f85",
   "metadata": {},
   "source": [
    "# Задание 2\n",
    "## Проверка сбалансированности"
   ]
  },
  {
   "cell_type": "code",
   "execution_count": 13,
   "id": "7c64ad3e-914a-4780-ae89-ae7d63dce2ec",
   "metadata": {},
   "outputs": [],
   "source": [
    "def validate_the_balance(y) -> bool:\n",
    "    # Считаем количество изображений для каждого класса\n",
    "    unique_classes, counts = np.unique(y, return_counts=True)\n",
    "\n",
    "    # Печатаем количество изображений для каждого класса\n",
    "    for class_name, count in zip(unique_classes, counts):\n",
    "        print(f\"Class {class_name}: {count} images\")\n",
    "\n",
    "    # Вычисляем среднее количество изображений и стандартное отклонение\n",
    "    mean_count = np.mean(counts)\n",
    "    std_count = np.std(counts)\n",
    "\n",
    "    # Проверяем сбалансированность на основе стандартного отклонения\n",
    "    if std_count / mean_count < 0.1:\n",
    "        print(\"Classes are balanced.\")\n",
    "        return True\n",
    "    else:\n",
    "        print(\"Classes are NOT balanced.\")\n",
    "        return False"
   ]
  },
  {
   "cell_type": "code",
   "execution_count": 14,
   "id": "4f6a3f47-a5c8-48b6-9330-ea2ad4a5ecd0",
   "metadata": {},
   "outputs": [
    {
     "name": "stdout",
     "output_type": "stream",
     "text": [
      "Class A: 52909 images\n",
      "Class B: 52911 images\n",
      "Class C: 52912 images\n",
      "Class D: 52911 images\n",
      "Class E: 52912 images\n",
      "Class F: 52912 images\n",
      "Class G: 52912 images\n",
      "Class H: 52912 images\n",
      "Class I: 52912 images\n",
      "Class J: 52911 images\n",
      "Classes are balanced.\n"
     ]
    },
    {
     "data": {
      "text/plain": [
       "True"
      ]
     },
     "execution_count": 14,
     "metadata": {},
     "output_type": "execute_result"
    }
   ],
   "source": [
    "validate_the_balance(y)"
   ]
  },
  {
   "cell_type": "code",
   "execution_count": 15,
   "id": "1b9a0901-593a-438d-aed4-6310a699e75d",
   "metadata": {},
   "outputs": [
    {
     "name": "stdout",
     "output_type": "stream",
     "text": [
      "Class A: 1872 images\n",
      "Class B: 1873 images\n",
      "Class C: 1873 images\n",
      "Class D: 1873 images\n",
      "Class E: 1873 images\n",
      "Class F: 1872 images\n",
      "Class G: 1872 images\n",
      "Class H: 1872 images\n",
      "Class I: 1872 images\n",
      "Class J: 1872 images\n",
      "Classes are balanced.\n"
     ]
    },
    {
     "data": {
      "text/plain": [
       "True"
      ]
     },
     "execution_count": 15,
     "metadata": {},
     "output_type": "execute_result"
    }
   ],
   "source": [
    "validate_the_balance(y_test)"
   ]
  },
  {
   "cell_type": "markdown",
   "id": "1c78dad6-769b-4179-8cfc-fdae0844c09b",
   "metadata": {},
   "source": [
    "# Задание 3\n",
    "## Разбиение выборки\n",
    "\n",
    "Данные загруженные из notMNIST_large используются для формирования обучающей и валидационной выборки\n",
    "\n",
    "Данные из notMNIST_small - для тестовой выборки"
   ]
  },
  {
   "cell_type": "code",
   "execution_count": 16,
   "id": "6ade4d1f-6a03-4fb4-8714-e652a0e21fb5",
   "metadata": {},
   "outputs": [],
   "source": [
    "x_train, x_val, y_train, y_val = train_test_split(\n",
    "    x,\n",
    "    y,\n",
    "    test_size=10000,\n",
    "    train_size=200000,\n",
    "    random_state=42,\n",
    "    stratify=y\n",
    ")"
   ]
  },
  {
   "cell_type": "markdown",
   "id": "24fbd3f2-160a-4be3-a071-89aa0797afe7",
   "metadata": {},
   "source": [
    "# Задание 4\n",
    "## Избавление от дубликатов в обучающей выборке"
   ]
  },
  {
   "cell_type": "code",
   "execution_count": 17,
   "id": "fcc4166e-45d8-4a3a-b4b4-125e6c6beda1",
   "metadata": {},
   "outputs": [],
   "source": [
    "def remove_duplicates_for_pair(x1, y1, x2, y2):\n",
    "    # Преобразуем наборы данных в множества для поиска дубликатов\n",
    "    train_set = set([tuple(x) for x in x1])\n",
    "    test_set = set([tuple(x) for x in x2])\n",
    "\n",
    "    # Находим пересечения (дубликаты) между обучающим и тестовым наборами\n",
    "    duplicates = train_set.intersection(test_set)\n",
    "\n",
    "    if duplicates:\n",
    "        print(f\"Found {len(duplicates)} duplicates in training set.\")\n",
    "\n",
    "        # Удаляем дубликаты только из обучающего набора\n",
    "        x_train_filtered = np.array([x for x in x1 if tuple(x) not in duplicates])\n",
    "        y_train_filtered = np.array([y1[i] for i in range(len(y1)) if tuple(x1[i]) not in duplicates])\n",
    "\n",
    "        # Тестовый набор остается неизменным\n",
    "        x_test_filtered, y_test_filtered = x2, y2\n",
    "    else:\n",
    "        print(\"No duplicates found.\")\n",
    "        x_train_filtered, y_train_filtered = x1, y1\n",
    "        x_test_filtered, y_test_filtered = x2, y2\n",
    "\n",
    "    return x_train_filtered, y_train_filtered, x_test_filtered, y_test_filtered"
   ]
  },
  {
   "cell_type": "code",
   "execution_count": 18,
   "id": "f48707b6-8325-498a-a0a0-fc951889fb6b",
   "metadata": {},
   "outputs": [
    {
     "name": "stdout",
     "output_type": "stream",
     "text": [
      "Found 2125 duplicates in training set.\n",
      "Found 969 duplicates in training set.\n"
     ]
    }
   ],
   "source": [
    "x_train, y_train, x_test, y_test = remove_duplicates_for_pair(\n",
    "    x_train, y_train, x_test, y_test\n",
    ")\n",
    "x_train, y_train, x_val, y_val = remove_duplicates_for_pair(\n",
    "    x_train, y_train, x_val, y_val\n",
    ")"
   ]
  },
  {
   "cell_type": "markdown",
   "id": "ae3951db-eebe-462b-8154-8ba273784c14",
   "metadata": {},
   "source": [
    "# Задание 5\n",
    "## Построение классификатора с помощью логистической регрессии"
   ]
  },
  {
   "cell_type": "code",
   "execution_count": 19,
   "id": "ad50039c-fdcb-4c6f-870e-6cddac2e27eb",
   "metadata": {},
   "outputs": [],
   "source": [
    "def fit_model(x_train, y_train):\n",
    "    model = LogisticRegression(solver=\"saga\", C=0.01, max_iter=1000)\n",
    "    model.fit(x_train, y_train)\n",
    "    accuracy = model.score(x_val, y_val)\n",
    "    print(f\"Validation set accuracy: {accuracy}\")\n",
    "    return model"
   ]
  },
  {
   "cell_type": "code",
   "execution_count": 20,
   "id": "afbee992-ff86-4431-8354-aeb5d3cdbd67",
   "metadata": {},
   "outputs": [
    {
     "name": "stdout",
     "output_type": "stream",
     "text": [
      "Validation set accuracy: 0.8365\n",
      "Test set accuracy = 0.8985259559923093\n"
     ]
    }
   ],
   "source": [
    "model = fit_model(x_train, y_train)\n",
    "y_pred = model.predict(x_test)\n",
    "accuracy = accuracy_score(y_test, y_pred)\n",
    "print(f\"Test set accuracy = {accuracy}\")"
   ]
  },
  {
   "cell_type": "code",
   "execution_count": 21,
   "id": "6a0f52a1-b1c3-4dbe-bcf6-82a16a2b7354",
   "metadata": {},
   "outputs": [
    {
     "name": "stdout",
     "output_type": "stream",
     "text": [
      "Validation set accuracy: 0.5666\n",
      "Validation set accuracy: 0.7057\n",
      "Validation set accuracy: 0.7984\n",
      "Validation set accuracy: 0.8311\n"
     ]
    },
    {
     "data": {
      "image/png": "[encoded data removed]",
      "text/plain": [
       "<Figure size 640x480 with 1 Axes>"
      ]
     },
     "metadata": {},
     "output_type": "display_data"
    }
   ],
   "source": [
    "train_sizes = [50, 100, 1000, 50000]\n",
    "accuracies = []\n",
    "\n",
    "for train_size in train_sizes:\n",
    "    x_train, x_val, y_train, y_val = train_test_split(\n",
    "        x,\n",
    "        y,\n",
    "        test_size=10000,\n",
    "        train_size=train_size,\n",
    "        random_state=42,\n",
    "        stratify=y\n",
    "    )\n",
    "    model = fit_model(x_train, y_train)\n",
    "    \n",
    "    y_pred = model.predict(x_test)\n",
    "    accuracy = accuracy_score(y_test, y_pred)\n",
    "    accuracies.append(accuracy)\n",
    "\n",
    "plt.plot(train_sizes, accuracies)\n",
    "plt.title(\"Зависимость точности классификатора от размера обучающей выборки\")\n",
    "plt.xlabel(\"Размер обучающей выборки\")\n",
    "plt.xscale(\"log\")\n",
    "plt.ylabel(\"Точность\")\n",
    "plt.grid()\n",
    "plt.show()"
   ]
  },
  {
   "cell_type": "code",
   "execution_count": null,
   "id": "80236175-663b-4343-9efc-42770f67d5bd",
   "metadata": {},
   "outputs": [],
   "source": []
  }
 ],
 "metadata": {
  "kernelspec": {
   "display_name": "Python 3 (ipykernel)",
   "language": "python",
   "name": "python3"
  },
  "language_info": {
   "codemirror_mode": {
    "name": "ipython",
    "version": 3
   },
   "file_extension": ".py",
   "mimetype": "text/x-python",
   "name": "python",
   "nbconvert_exporter": "python",
   "pygments_lexer": "ipython3",
   "version": "3.9.20"
  }
 },
 "nbformat": 4,
 "nbformat_minor": 5
}
