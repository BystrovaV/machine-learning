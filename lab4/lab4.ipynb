{
 "cells": [
  {
   "cell_type": "code",
   "execution_count": 1,
   "id": "17fd2ce2-c656-4137-9d17-12f411db89cb",
   "metadata": {},
   "outputs": [
    {
     "name": "stderr",
     "output_type": "stream",
     "text": [
      "2025-03-22 18:48:24.318864: I tensorflow/core/util/port.cc:153] oneDNN custom operations are on. You may see slightly different numerical results due to floating-point round-off errors from different computation orders. To turn them off, set the environment variable `TF_ENABLE_ONEDNN_OPTS=0`.\n",
      "2025-03-22 18:48:24.319417: I external/local_xla/xla/tsl/cuda/cudart_stub.cc:32] Could not find cuda drivers on your machine, GPU will not be used.\n",
      "2025-03-22 18:48:24.321350: I external/local_xla/xla/tsl/cuda/cudart_stub.cc:32] Could not find cuda drivers on your machine, GPU will not be used.\n",
      "2025-03-22 18:48:24.327359: E external/local_xla/xla/stream_executor/cuda/cuda_fft.cc:485] Unable to register cuFFT factory: Attempting to register factory for plugin cuFFT when one has already been registered\n",
      "2025-03-22 18:48:24.337304: E external/local_xla/xla/stream_executor/cuda/cuda_dnn.cc:8454] Unable to register cuDNN factory: Attempting to register factory for plugin cuDNN when one has already been registered\n",
      "2025-03-22 18:48:24.340101: E external/local_xla/xla/stream_executor/cuda/cuda_blas.cc:1452] Unable to register cuBLAS factory: Attempting to register factory for plugin cuBLAS when one has already been registered\n",
      "2025-03-22 18:48:24.347762: I tensorflow/core/platform/cpu_feature_guard.cc:210] This TensorFlow binary is optimized to use available CPU instructions in performance-critical operations.\n",
      "To enable the following instructions: AVX2 AVX_VNNI FMA, in other operations, rebuild TensorFlow with the appropriate compiler flags.\n",
      "2025-03-22 18:48:24.843509: W tensorflow/compiler/tf2tensorrt/utils/py_utils.cc:38] TF-TRT Warning: Could not find TensorRT\n"
     ]
    }
   ],
   "source": [
    "# import math\n",
    "import pickle\n",
    "import pandas as pd\n",
    "# from pathlib import Path\n",
    "import h5py\n",
    "import os\n",
    "import random\n",
    "\n",
    "import PIL\n",
    "import PIL.Image\n",
    "import numpy as np\n",
    "import tensorflow as tf\n",
    "from sklearn.model_selection import train_test_split\n",
    "import matplotlib.pyplot as plt\n",
    "from sklearn.preprocessing import LabelEncoder"
   ]
  },
  {
   "cell_type": "code",
   "execution_count": 2,
   "id": "e6746894-81e7-483c-ba57-a379d140ddcf",
   "metadata": {},
   "outputs": [],
   "source": [
    "test_path = \"/home/user/Education/ML/lab1/lab1/lab4/test\"\n",
    "mat_path = test_path + \"/digitStruct.mat\""
   ]
  },
  {
   "cell_type": "code",
   "execution_count": 3,
   "id": "ec0d3708-e6f1-4c98-bd44-d72766d7e277",
   "metadata": {},
   "outputs": [],
   "source": [
    "train_path = \"/home/user/Education/ML/lab1/lab1/lab4/train\"\n",
    "train_mat_path = train_path + \"/digitStruct.mat\""
   ]
  },
  {
   "cell_type": "markdown",
   "id": "ed7e986f-c3f1-4444-a7f0-043a64608d46",
   "metadata": {},
   "source": [
    "## Загрузка датасета из digitStruct.mat файла\n",
    "Данная функция извлекает в формате датафрейма информацию о каждом изображении, такую как название файла, число, размеры рамки, в котором содержится число."
   ]
  },
  {
   "cell_type": "code",
   "execution_count": 4,
   "id": "572d2580-47b9-42b5-b032-3f49b641e18a",
   "metadata": {},
   "outputs": [],
   "source": [
    "def mat_to_dataset(mat_path, image_folder):\n",
    "    \"\"\"Convert .mat file to a DataFrame with grouped labels and bounding boxes for each image.\"\"\"\n",
    "    df = pd.DataFrame(columns=('filename', 'value', 'digits', 'length', 'width', 'height', 'box'))\n",
    "    \n",
    "    with h5py.File(mat_path, mode='r') as f:\n",
    "        # Preload all file names\n",
    "        file_names = [''.join(chr(c[0]) for c in f[f['digitStruct']['name'][i, 0]][:]) \n",
    "                     for i in range(len(f['digitStruct']['name']))]\n",
    "        \n",
    "        # Preload all bounding boxes\n",
    "        bboxes = []\n",
    "        for i in range(len(f['digitStruct']['bbox'])):\n",
    "            box_i = f['digitStruct']['bbox'][i, 0]\n",
    "            bbox = {key: [] for key in ['label', 'left', 'top', 'width', 'height']}\n",
    "            for key in bbox.keys():\n",
    "                attr = f[box_i][key]\n",
    "                bbox[key] = ([int(f[attr[index, 0]][0, 0]) for index in range(attr.shape[0])] \n",
    "                            if attr.shape[0] > 1 else [int(attr[0, 0])])\n",
    "            bboxes.append(bbox)\n",
    "\n",
    "        # Process all preloaded data\n",
    "        for i, (filename, bbox) in enumerate(zip(file_names, bboxes)):\n",
    "            # Reset bounding box coordinates for each new image\n",
    "            left = top = 999999\n",
    "            right = bottom = 0\n",
    "            digits = []\n",
    "            \n",
    "            # Process the digits and bounding boxes\n",
    "            for digit, l, t, w, h in zip(bbox['label'], bbox['left'], bbox['top'], \n",
    "                                       bbox['width'], bbox['height']):\n",
    "                # digit = 0 if digit == 10 else digit\n",
    "                left = min(l, left)\n",
    "                top = min(t, top)\n",
    "                right = max(l + w, right)\n",
    "                bottom = max(t + h, bottom)\n",
    "                digits.append(digit)\n",
    "\n",
    "            # Process the image directly without checking previous state\n",
    "            img_path = os.path.join(image_folder, filename)\n",
    "            \n",
    "            if os.path.isfile(img_path):\n",
    "                with PIL.Image.open(img_path) as img:\n",
    "                    width, height = img.size\n",
    "                    df.loc[len(df)] = [\n",
    "                        filename,\n",
    "                        int(\"\".join(map(str, digits))),\n",
    "                        digits,\n",
    "                        len(digits),\n",
    "                        width,\n",
    "                        height,\n",
    "                        [left, top, right, bottom]\n",
    "                    ]\n",
    "            else:\n",
    "                print(f\"\\nWarning: Could not find image file: {img_path}\")\n",
    "\n",
    "            if (i + 1) % 100 == 0:  # Print progress every 100 images\n",
    "                print(f'Processing {i + 1}/{len(file_names)} records...', end='\\r')\n",
    "\n",
    "    print(f'\\nProcessed {len(file_names)} records.')\n",
    "    return df"
   ]
  },
  {
   "cell_type": "markdown",
   "id": "4a881e58-7c3d-4cdc-be58-d7d0d557ca49",
   "metadata": {},
   "source": [
    "## Загрузка датасета из датафрейма с изображениями\n",
    "\n",
    "load_dataset - загружает датасет, обрезает изображение по рамке, в котором находится число\n",
    "\n",
    "resize_with_padding - обрезка изображения так, чтобы оно не сжималось, а сохраняло свои пропорции\n",
    "\n",
    "augumention - создает копию изображению, но с рандомным сдвигом, для увеличения выборки"
   ]
  },
  {
   "cell_type": "code",
   "execution_count": 5,
   "id": "93c8df7f-a4ca-49fd-bfb6-1d9c8c8aa6a5",
   "metadata": {},
   "outputs": [],
   "source": [
    "def resize_with_padding(image, target_size=(64, 64)):\n",
    "    old_size = image.size\n",
    "    \n",
    "    ratio = min(target_size[0] / old_size[0], target_size[1] / old_size[1])\n",
    "    new_size = (int(old_size[0] * ratio), int(old_size[1] * ratio))\n",
    "    \n",
    "    image = image.resize(new_size, PIL.Image.LANCZOS)\n",
    "    \n",
    "    mean_color = tuple(map(int, np.mean(np.array(image), axis=(0, 1))))\n",
    "\n",
    "    new_image = PIL.Image.new(\"RGB\", target_size, color=mean_color)\n",
    "    new_image.paste(image, ((target_size[0] - new_size[0]) // 2, (target_size[1] - new_size[1]) // 2))\n",
    "    \n",
    "    return new_image"
   ]
  },
  {
   "cell_type": "code",
   "execution_count": 6,
   "id": "cd5a9869-af02-4208-a4d8-e876fa69a2da",
   "metadata": {},
   "outputs": [],
   "source": [
    "def augumention(im):\n",
    "    left = random.randint(0, 10)\n",
    "    top = random.randint(0, 10)\n",
    "    right = left + 54\n",
    "    bottom = top + 54\n",
    "    \n",
    "    return im.crop((left, top, right, bottom)).resize([64, 64], PIL.Image.Resampling.LANCZOS)"
   ]
  },
  {
   "cell_type": "code",
   "execution_count": 7,
   "id": "de2135c2-5f3d-4556-a08a-e79ad1d43e1c",
   "metadata": {},
   "outputs": [],
   "source": [
    "def load_dataset(df, folder, to_rgb, with_aug=True):\n",
    "    dataset = np.ndarray([(len(df) * 2) if with_aug else len(df), 64, 64], dtype='float32')\n",
    "    labels = np.zeros([(len(df) * 2) if with_aug else len(df), 5], dtype=int)\n",
    "    for i in range(len(df)):\n",
    "        filename = df.loc[i, 'filename']\n",
    "        fullname = os.path.join(folder, filename)\n",
    "        im = PIL.Image.open(fullname)\n",
    "        \n",
    "        digits = df.loc[i, 'digits']\n",
    "        box = df.loc[i, 'box']\n",
    "     \n",
    "        if isinstance(box, str):\n",
    "            box = eval(box)\n",
    "\n",
    "        for j in range(min(len(digits), 5)): \n",
    "            labels[i, j] = digits[j]\n",
    "            if with_aug:\n",
    "                labels[i * 2, j] = digits[j]\n",
    "\n",
    "        if len(digits) > 5:\n",
    "            print(f'Warning: Image {i} has more than 5 digits. Only the first 5 digits will be used.')\n",
    "\n",
    "        if len(box) == 4: \n",
    "            left, top, width, height = box\n",
    "        else:\n",
    "            raise ValueError(f\"Box format is incorrect for index {i}: {box}\")\n",
    "            \n",
    "        im_left, im_top = left, top\n",
    "        im_width, im_height = width, height\n",
    "      \n",
    "        im_top = max(0, np.floor(im_top - 0.2 * im_height))\n",
    "        im_left = max(0, np.floor(im_left - 0.2 * im_width))\n",
    "        im_bottom = min(im.size[1], np.ceil(im_top + 1.2 * im_height))\n",
    "        im_right = min(im.size[0], np.ceil(im_left + 1.2 * im_width))\n",
    "       \n",
    "        im = resize_with_padding(im.crop((im_left, im_top, im_right, im_bottom)))\n",
    "        if with_aug:\n",
    "            aug_im = augumention(im)\n",
    "\n",
    "        if to_rgb:\n",
    "            im = np.array(im, dtype='float32') / 255.0\n",
    "            dataset[i, :, :, :] = im\n",
    "            if with_aug:\n",
    "                aug_im = np.array(aug_im, dtype='float32') / 255.0\n",
    "                dataset[i * 2, :, :, :] = aug_im\n",
    "        else:\n",
    "            im = np.array(im.convert('L'), dtype='float32') / 255.0\n",
    "            dataset[i, :, :] = im\n",
    "            if with_aug:\n",
    "                aug_im = np.array(aug_im.convert('L'), dtype='float32') / 255.0\n",
    "                dataset[i * 2, :, :] = aug_im\n",
    "            \n",
    "    return dataset, labels"
   ]
  },
  {
   "cell_type": "code",
   "execution_count": 8,
   "id": "a6f4babc-cd9f-433f-86b1-90a1251ca8cf",
   "metadata": {},
   "outputs": [],
   "source": [
    "def save_to_pickle(dataset, labels, filename):\n",
    "    with open(f'{filename}.pickle', 'wb') as f:\n",
    "        pickle.dump((dataset, labels), f)"
   ]
  },
  {
   "cell_type": "code",
   "execution_count": 9,
   "id": "fed1e29b-ba8d-48d6-9340-cc73bc165a4d",
   "metadata": {},
   "outputs": [],
   "source": [
    "def load_pickle(filename):\n",
    "    with open(f'{filename}.pickle', 'rb') as f:\n",
    "        dataset, labels = pickle.load(f)\n",
    "    return dataset, labels"
   ]
  },
  {
   "cell_type": "code",
   "execution_count": 10,
   "id": "bd772228-d18a-4bf8-93aa-82dc6cba2481",
   "metadata": {},
   "outputs": [],
   "source": [
    "# datasets = mat_to_dataset(train_mat_path, train_path)\n",
    "# dataset, labels = load_dataset(datasets, train_path, False)\n",
    "# save_to_pickle(dataset, labels, \"train_data_fix_with_padding_aug_1\")"
   ]
  },
  {
   "cell_type": "code",
   "execution_count": 11,
   "id": "0d516047-11b0-4e66-b717-39a8a0535104",
   "metadata": {},
   "outputs": [],
   "source": [
    "# datasets = mat_to_dataset(mat_path, test_path)\n",
    "# dataset, labels = load_dataset(datasets, test_path, False, False)\n",
    "# save_to_pickle(dataset, labels, \"test_data_fix_with_padding_1\")"
   ]
  },
  {
   "cell_type": "markdown",
   "id": "1b59cca1-f4fe-4430-b2b6-dce4a6552106",
   "metadata": {},
   "source": [
    "## Предобработка датасета\n",
    "Разделяем выборку на обучающую и валидационную, приводим к нужному виду"
   ]
  },
  {
   "cell_type": "code",
   "execution_count": 12,
   "id": "e0567690-a944-4a12-b1bb-d4962d5bfc58",
   "metadata": {},
   "outputs": [],
   "source": [
    "def preprocess_data(prefix, to_rgb):\n",
    "    channels = 3 if to_rgb else 1\n",
    "    x_test, y_test = load_pickle(f\"test_data_fix_with_padding_{channels}\")\n",
    "    x_train, y_train = load_pickle(f\"train_data_fix_with_padding_{prefix}_{channels}\")\n",
    "\n",
    "    print(\"Test dataset shape: \", x_test.shape, y_test.shape)\n",
    "    print(\"Total train dataset shape: \", x_train.shape, y_train.shape)\n",
    "\n",
    "    x_train, x_val, y_train, y_val = train_test_split(\n",
    "        x_train,\n",
    "        y_train,\n",
    "        test_size=0.2,\n",
    "        random_state=42\n",
    "    )\n",
    "\n",
    "    print(\"Train dataset shape after split: \", x_train.shape, y_train.shape)\n",
    "    print(\"Validation dataset shape after split: \", x_val.shape, y_val.shape)\n",
    "\n",
    "    x_train = x_train.reshape((len(x_train), 64, 64, channels))\n",
    "    x_val = x_val.reshape((len(x_val), 64, 64, channels))\n",
    "    x_test = x_test.reshape((len(x_test), 64, 64, channels))\n",
    "\n",
    "    return x_train, x_val, x_test, y_train, y_val, y_test"
   ]
  },
  {
   "cell_type": "code",
   "execution_count": 13,
   "id": "6c7feeb7-0a8e-4e02-b740-7c66fb4bc728",
   "metadata": {},
   "outputs": [],
   "source": [
    "def transform_labels(labels):\n",
    "    num_samples = len(labels)\n",
    "    num_classes = 11\n",
    "    \n",
    "    dig0_arr = np.zeros((num_samples, num_classes))\n",
    "    dig1_arr = np.zeros((num_samples, num_classes))\n",
    "    dig2_arr = np.zeros((num_samples, num_classes))\n",
    "    dig3_arr = np.zeros((num_samples, num_classes))\n",
    "    dig4_arr = np.zeros((num_samples, num_classes))\n",
    "    \n",
    "    for i, label in enumerate(labels):\n",
    "        dig0_arr[i] = tf.keras.utils.to_categorical(label[0], num_classes)\n",
    "        dig1_arr[i] = tf.keras.utils.to_categorical(label[1], num_classes)\n",
    "        dig2_arr[i] = tf.keras.utils.to_categorical(label[2], num_classes)\n",
    "        dig3_arr[i] = tf.keras.utils.to_categorical(label[3], num_classes)\n",
    "        dig4_arr[i] = tf.keras.utils.to_categorical(label[4], num_classes)\n",
    "    \n",
    "    return [dig0_arr, dig1_arr, dig2_arr, dig3_arr, dig4_arr]"
   ]
  },
  {
   "cell_type": "code",
   "execution_count": 14,
   "id": "a2bc84e2-2b26-4731-82ab-58e6e41cce32",
   "metadata": {},
   "outputs": [
    {
     "name": "stdout",
     "output_type": "stream",
     "text": [
      "Test dataset shape:  (13068, 64, 64) (13068, 5)\n",
      "Total train dataset shape:  (66804, 64, 64) (66804, 5)\n",
      "Train dataset shape after split:  (53443, 64, 64) (53443, 5)\n",
      "Validation dataset shape after split:  (13361, 64, 64) (13361, 5)\n"
     ]
    }
   ],
   "source": [
    "x_train, x_val, x_test, y_train, y_val, y_test = preprocess_data(\"aug\", False)"
   ]
  },
  {
   "cell_type": "code",
   "execution_count": 15,
   "id": "c74294a8-b95e-41eb-ae19-ca15c27cfb1c",
   "metadata": {},
   "outputs": [
    {
     "data": {
      "text/plain": [
       "array([[ 5,  0,  0,  0,  0],\n",
       "       [ 2,  1, 10,  0,  0],\n",
       "       [ 6,  0,  0,  0,  0],\n",
       "       ...,\n",
       "       [ 1,  3,  6,  0,  0],\n",
       "       [ 2,  2,  7,  0,  0],\n",
       "       [ 6,  7,  0,  0,  0]])"
      ]
     },
     "execution_count": 15,
     "metadata": {},
     "output_type": "execute_result"
    }
   ],
   "source": [
    "y_test"
   ]
  },
  {
   "cell_type": "code",
   "execution_count": 16,
   "id": "3511d3d7-7858-452e-bab1-42c08a101f5b",
   "metadata": {},
   "outputs": [],
   "source": [
    "y_train = transform_labels(y_train)\n",
    "y_test = transform_labels(y_test)\n",
    "y_val = transform_labels(y_val)"
   ]
  },
  {
   "cell_type": "code",
   "execution_count": 17,
   "id": "a99ddaf6-73c1-4dd2-a31e-2247a2c3a945",
   "metadata": {},
   "outputs": [
    {
     "data": {
      "text/html": [
       "<pre style=\"white-space:pre;overflow-x:auto;line-height:normal;font-family:Menlo,'DejaVu Sans Mono',consolas,'Courier New',monospace\"><span style=\"font-weight: bold\">Model: \"functional\"</span>\n",
       "</pre>\n"
      ],
      "text/plain": [
       "\u001b[1mModel: \"functional\"\u001b[0m\n"
      ]
     },
     "metadata": {},
     "output_type": "display_data"
    },
    {
     "data": {
      "text/html": [
       "<pre style=\"white-space:pre;overflow-x:auto;line-height:normal;font-family:Menlo,'DejaVu Sans Mono',consolas,'Courier New',monospace\">┏━━━━━━━━━━━━━━━━━━━━━┳━━━━━━━━━━━━━━━━━━━┳━━━━━━━━━━━━┳━━━━━━━━━━━━━━━━━━━┓\n",
       "┃<span style=\"font-weight: bold\"> Layer (type)        </span>┃<span style=\"font-weight: bold\"> Output Shape      </span>┃<span style=\"font-weight: bold\">    Param # </span>┃<span style=\"font-weight: bold\"> Connected to      </span>┃\n",
       "┡━━━━━━━━━━━━━━━━━━━━━╇━━━━━━━━━━━━━━━━━━━╇━━━━━━━━━━━━╇━━━━━━━━━━━━━━━━━━━┩\n",
       "│ input_layer         │ (<span style=\"color: #00d7ff; text-decoration-color: #00d7ff\">None</span>, <span style=\"color: #00af00; text-decoration-color: #00af00\">64</span>, <span style=\"color: #00af00; text-decoration-color: #00af00\">64</span>, <span style=\"color: #00af00; text-decoration-color: #00af00\">1</span>) │          <span style=\"color: #00af00; text-decoration-color: #00af00\">0</span> │ -                 │\n",
       "│ (<span style=\"color: #0087ff; text-decoration-color: #0087ff\">InputLayer</span>)        │                   │            │                   │\n",
       "├─────────────────────┼───────────────────┼────────────┼───────────────────┤\n",
       "│ conv2d (<span style=\"color: #0087ff; text-decoration-color: #0087ff\">Conv2D</span>)     │ (<span style=\"color: #00d7ff; text-decoration-color: #00d7ff\">None</span>, <span style=\"color: #00af00; text-decoration-color: #00af00\">64</span>, <span style=\"color: #00af00; text-decoration-color: #00af00\">64</span>,    │        <span style=\"color: #00af00; text-decoration-color: #00af00\">576</span> │ input_layer[<span style=\"color: #00af00; text-decoration-color: #00af00\">0</span>][<span style=\"color: #00af00; text-decoration-color: #00af00\">0</span>] │\n",
       "│                     │ <span style=\"color: #00af00; text-decoration-color: #00af00\">64</span>)               │            │                   │\n",
       "├─────────────────────┼───────────────────┼────────────┼───────────────────┤\n",
       "│ batch_normalization │ (<span style=\"color: #00d7ff; text-decoration-color: #00d7ff\">None</span>, <span style=\"color: #00af00; text-decoration-color: #00af00\">64</span>, <span style=\"color: #00af00; text-decoration-color: #00af00\">64</span>,    │        <span style=\"color: #00af00; text-decoration-color: #00af00\">256</span> │ conv2d[<span style=\"color: #00af00; text-decoration-color: #00af00\">0</span>][<span style=\"color: #00af00; text-decoration-color: #00af00\">0</span>]      │\n",
       "│ (<span style=\"color: #0087ff; text-decoration-color: #0087ff\">BatchNormalizatio…</span> │ <span style=\"color: #00af00; text-decoration-color: #00af00\">64</span>)               │            │                   │\n",
       "├─────────────────────┼───────────────────┼────────────┼───────────────────┤\n",
       "│ activation          │ (<span style=\"color: #00d7ff; text-decoration-color: #00d7ff\">None</span>, <span style=\"color: #00af00; text-decoration-color: #00af00\">64</span>, <span style=\"color: #00af00; text-decoration-color: #00af00\">64</span>,    │          <span style=\"color: #00af00; text-decoration-color: #00af00\">0</span> │ batch_normalizat… │\n",
       "│ (<span style=\"color: #0087ff; text-decoration-color: #0087ff\">Activation</span>)        │ <span style=\"color: #00af00; text-decoration-color: #00af00\">64</span>)               │            │                   │\n",
       "├─────────────────────┼───────────────────┼────────────┼───────────────────┤\n",
       "│ max_pooling2d       │ (<span style=\"color: #00d7ff; text-decoration-color: #00d7ff\">None</span>, <span style=\"color: #00af00; text-decoration-color: #00af00\">32</span>, <span style=\"color: #00af00; text-decoration-color: #00af00\">32</span>,    │          <span style=\"color: #00af00; text-decoration-color: #00af00\">0</span> │ activation[<span style=\"color: #00af00; text-decoration-color: #00af00\">0</span>][<span style=\"color: #00af00; text-decoration-color: #00af00\">0</span>]  │\n",
       "│ (<span style=\"color: #0087ff; text-decoration-color: #0087ff\">MaxPooling2D</span>)      │ <span style=\"color: #00af00; text-decoration-color: #00af00\">64</span>)               │            │                   │\n",
       "├─────────────────────┼───────────────────┼────────────┼───────────────────┤\n",
       "│ conv2d_1 (<span style=\"color: #0087ff; text-decoration-color: #0087ff\">Conv2D</span>)   │ (<span style=\"color: #00d7ff; text-decoration-color: #00d7ff\">None</span>, <span style=\"color: #00af00; text-decoration-color: #00af00\">32</span>, <span style=\"color: #00af00; text-decoration-color: #00af00\">32</span>,    │     <span style=\"color: #00af00; text-decoration-color: #00af00\">73,728</span> │ max_pooling2d[<span style=\"color: #00af00; text-decoration-color: #00af00\">0</span>]… │\n",
       "│                     │ <span style=\"color: #00af00; text-decoration-color: #00af00\">128</span>)              │            │                   │\n",
       "├─────────────────────┼───────────────────┼────────────┼───────────────────┤\n",
       "│ batch_normalizatio… │ (<span style=\"color: #00d7ff; text-decoration-color: #00d7ff\">None</span>, <span style=\"color: #00af00; text-decoration-color: #00af00\">32</span>, <span style=\"color: #00af00; text-decoration-color: #00af00\">32</span>,    │        <span style=\"color: #00af00; text-decoration-color: #00af00\">512</span> │ conv2d_1[<span style=\"color: #00af00; text-decoration-color: #00af00\">0</span>][<span style=\"color: #00af00; text-decoration-color: #00af00\">0</span>]    │\n",
       "│ (<span style=\"color: #0087ff; text-decoration-color: #0087ff\">BatchNormalizatio…</span> │ <span style=\"color: #00af00; text-decoration-color: #00af00\">128</span>)              │            │                   │\n",
       "├─────────────────────┼───────────────────┼────────────┼───────────────────┤\n",
       "│ activation_1        │ (<span style=\"color: #00d7ff; text-decoration-color: #00d7ff\">None</span>, <span style=\"color: #00af00; text-decoration-color: #00af00\">32</span>, <span style=\"color: #00af00; text-decoration-color: #00af00\">32</span>,    │          <span style=\"color: #00af00; text-decoration-color: #00af00\">0</span> │ batch_normalizat… │\n",
       "│ (<span style=\"color: #0087ff; text-decoration-color: #0087ff\">Activation</span>)        │ <span style=\"color: #00af00; text-decoration-color: #00af00\">128</span>)              │            │                   │\n",
       "├─────────────────────┼───────────────────┼────────────┼───────────────────┤\n",
       "│ max_pooling2d_1     │ (<span style=\"color: #00d7ff; text-decoration-color: #00d7ff\">None</span>, <span style=\"color: #00af00; text-decoration-color: #00af00\">16</span>, <span style=\"color: #00af00; text-decoration-color: #00af00\">16</span>,    │          <span style=\"color: #00af00; text-decoration-color: #00af00\">0</span> │ activation_1[<span style=\"color: #00af00; text-decoration-color: #00af00\">0</span>][<span style=\"color: #00af00; text-decoration-color: #00af00\">…</span> │\n",
       "│ (<span style=\"color: #0087ff; text-decoration-color: #0087ff\">MaxPooling2D</span>)      │ <span style=\"color: #00af00; text-decoration-color: #00af00\">128</span>)              │            │                   │\n",
       "├─────────────────────┼───────────────────┼────────────┼───────────────────┤\n",
       "│ conv2d_2 (<span style=\"color: #0087ff; text-decoration-color: #0087ff\">Conv2D</span>)   │ (<span style=\"color: #00d7ff; text-decoration-color: #00d7ff\">None</span>, <span style=\"color: #00af00; text-decoration-color: #00af00\">16</span>, <span style=\"color: #00af00; text-decoration-color: #00af00\">16</span>,    │    <span style=\"color: #00af00; text-decoration-color: #00af00\">294,912</span> │ max_pooling2d_1[<span style=\"color: #00af00; text-decoration-color: #00af00\">…</span> │\n",
       "│                     │ <span style=\"color: #00af00; text-decoration-color: #00af00\">256</span>)              │            │                   │\n",
       "├─────────────────────┼───────────────────┼────────────┼───────────────────┤\n",
       "│ batch_normalizatio… │ (<span style=\"color: #00d7ff; text-decoration-color: #00d7ff\">None</span>, <span style=\"color: #00af00; text-decoration-color: #00af00\">16</span>, <span style=\"color: #00af00; text-decoration-color: #00af00\">16</span>,    │      <span style=\"color: #00af00; text-decoration-color: #00af00\">1,024</span> │ conv2d_2[<span style=\"color: #00af00; text-decoration-color: #00af00\">0</span>][<span style=\"color: #00af00; text-decoration-color: #00af00\">0</span>]    │\n",
       "│ (<span style=\"color: #0087ff; text-decoration-color: #0087ff\">BatchNormalizatio…</span> │ <span style=\"color: #00af00; text-decoration-color: #00af00\">256</span>)              │            │                   │\n",
       "├─────────────────────┼───────────────────┼────────────┼───────────────────┤\n",
       "│ activation_2        │ (<span style=\"color: #00d7ff; text-decoration-color: #00d7ff\">None</span>, <span style=\"color: #00af00; text-decoration-color: #00af00\">16</span>, <span style=\"color: #00af00; text-decoration-color: #00af00\">16</span>,    │          <span style=\"color: #00af00; text-decoration-color: #00af00\">0</span> │ batch_normalizat… │\n",
       "│ (<span style=\"color: #0087ff; text-decoration-color: #0087ff\">Activation</span>)        │ <span style=\"color: #00af00; text-decoration-color: #00af00\">256</span>)              │            │                   │\n",
       "├─────────────────────┼───────────────────┼────────────┼───────────────────┤\n",
       "│ max_pooling2d_2     │ (<span style=\"color: #00d7ff; text-decoration-color: #00d7ff\">None</span>, <span style=\"color: #00af00; text-decoration-color: #00af00\">8</span>, <span style=\"color: #00af00; text-decoration-color: #00af00\">8</span>, <span style=\"color: #00af00; text-decoration-color: #00af00\">256</span>) │          <span style=\"color: #00af00; text-decoration-color: #00af00\">0</span> │ activation_2[<span style=\"color: #00af00; text-decoration-color: #00af00\">0</span>][<span style=\"color: #00af00; text-decoration-color: #00af00\">…</span> │\n",
       "│ (<span style=\"color: #0087ff; text-decoration-color: #0087ff\">MaxPooling2D</span>)      │                   │            │                   │\n",
       "├─────────────────────┼───────────────────┼────────────┼───────────────────┤\n",
       "│ conv2d_3 (<span style=\"color: #0087ff; text-decoration-color: #0087ff\">Conv2D</span>)   │ (<span style=\"color: #00d7ff; text-decoration-color: #00d7ff\">None</span>, <span style=\"color: #00af00; text-decoration-color: #00af00\">8</span>, <span style=\"color: #00af00; text-decoration-color: #00af00\">8</span>, <span style=\"color: #00af00; text-decoration-color: #00af00\">512</span>) │  <span style=\"color: #00af00; text-decoration-color: #00af00\">1,179,648</span> │ max_pooling2d_2[<span style=\"color: #00af00; text-decoration-color: #00af00\">…</span> │\n",
       "├─────────────────────┼───────────────────┼────────────┼───────────────────┤\n",
       "│ batch_normalizatio… │ (<span style=\"color: #00d7ff; text-decoration-color: #00d7ff\">None</span>, <span style=\"color: #00af00; text-decoration-color: #00af00\">8</span>, <span style=\"color: #00af00; text-decoration-color: #00af00\">8</span>, <span style=\"color: #00af00; text-decoration-color: #00af00\">512</span>) │      <span style=\"color: #00af00; text-decoration-color: #00af00\">2,048</span> │ conv2d_3[<span style=\"color: #00af00; text-decoration-color: #00af00\">0</span>][<span style=\"color: #00af00; text-decoration-color: #00af00\">0</span>]    │\n",
       "│ (<span style=\"color: #0087ff; text-decoration-color: #0087ff\">BatchNormalizatio…</span> │                   │            │                   │\n",
       "├─────────────────────┼───────────────────┼────────────┼───────────────────┤\n",
       "│ activation_3        │ (<span style=\"color: #00d7ff; text-decoration-color: #00d7ff\">None</span>, <span style=\"color: #00af00; text-decoration-color: #00af00\">8</span>, <span style=\"color: #00af00; text-decoration-color: #00af00\">8</span>, <span style=\"color: #00af00; text-decoration-color: #00af00\">512</span>) │          <span style=\"color: #00af00; text-decoration-color: #00af00\">0</span> │ batch_normalizat… │\n",
       "│ (<span style=\"color: #0087ff; text-decoration-color: #0087ff\">Activation</span>)        │                   │            │                   │\n",
       "├─────────────────────┼───────────────────┼────────────┼───────────────────┤\n",
       "│ max_pooling2d_3     │ (<span style=\"color: #00d7ff; text-decoration-color: #00d7ff\">None</span>, <span style=\"color: #00af00; text-decoration-color: #00af00\">4</span>, <span style=\"color: #00af00; text-decoration-color: #00af00\">4</span>, <span style=\"color: #00af00; text-decoration-color: #00af00\">512</span>) │          <span style=\"color: #00af00; text-decoration-color: #00af00\">0</span> │ activation_3[<span style=\"color: #00af00; text-decoration-color: #00af00\">0</span>][<span style=\"color: #00af00; text-decoration-color: #00af00\">…</span> │\n",
       "│ (<span style=\"color: #0087ff; text-decoration-color: #0087ff\">MaxPooling2D</span>)      │                   │            │                   │\n",
       "├─────────────────────┼───────────────────┼────────────┼───────────────────┤\n",
       "│ global_average_poo… │ (<span style=\"color: #00d7ff; text-decoration-color: #00d7ff\">None</span>, <span style=\"color: #00af00; text-decoration-color: #00af00\">512</span>)       │          <span style=\"color: #00af00; text-decoration-color: #00af00\">0</span> │ max_pooling2d_3[<span style=\"color: #00af00; text-decoration-color: #00af00\">…</span> │\n",
       "│ (<span style=\"color: #0087ff; text-decoration-color: #0087ff\">GlobalAveragePool…</span> │                   │            │                   │\n",
       "├─────────────────────┼───────────────────┼────────────┼───────────────────┤\n",
       "│ dense (<span style=\"color: #0087ff; text-decoration-color: #0087ff\">Dense</span>)       │ (<span style=\"color: #00d7ff; text-decoration-color: #00d7ff\">None</span>, <span style=\"color: #00af00; text-decoration-color: #00af00\">256</span>)       │    <span style=\"color: #00af00; text-decoration-color: #00af00\">131,328</span> │ global_average_p… │\n",
       "├─────────────────────┼───────────────────┼────────────┼───────────────────┤\n",
       "│ dropout (<span style=\"color: #0087ff; text-decoration-color: #0087ff\">Dropout</span>)   │ (<span style=\"color: #00d7ff; text-decoration-color: #00d7ff\">None</span>, <span style=\"color: #00af00; text-decoration-color: #00af00\">256</span>)       │          <span style=\"color: #00af00; text-decoration-color: #00af00\">0</span> │ dense[<span style=\"color: #00af00; text-decoration-color: #00af00\">0</span>][<span style=\"color: #00af00; text-decoration-color: #00af00\">0</span>]       │\n",
       "├─────────────────────┼───────────────────┼────────────┼───────────────────┤\n",
       "│ digit_0 (<span style=\"color: #0087ff; text-decoration-color: #0087ff\">Dense</span>)     │ (<span style=\"color: #00d7ff; text-decoration-color: #00d7ff\">None</span>, <span style=\"color: #00af00; text-decoration-color: #00af00\">11</span>)        │      <span style=\"color: #00af00; text-decoration-color: #00af00\">2,827</span> │ dropout[<span style=\"color: #00af00; text-decoration-color: #00af00\">0</span>][<span style=\"color: #00af00; text-decoration-color: #00af00\">0</span>]     │\n",
       "├─────────────────────┼───────────────────┼────────────┼───────────────────┤\n",
       "│ digit_1 (<span style=\"color: #0087ff; text-decoration-color: #0087ff\">Dense</span>)     │ (<span style=\"color: #00d7ff; text-decoration-color: #00d7ff\">None</span>, <span style=\"color: #00af00; text-decoration-color: #00af00\">11</span>)        │      <span style=\"color: #00af00; text-decoration-color: #00af00\">2,827</span> │ dropout[<span style=\"color: #00af00; text-decoration-color: #00af00\">0</span>][<span style=\"color: #00af00; text-decoration-color: #00af00\">0</span>]     │\n",
       "├─────────────────────┼───────────────────┼────────────┼───────────────────┤\n",
       "│ digit_2 (<span style=\"color: #0087ff; text-decoration-color: #0087ff\">Dense</span>)     │ (<span style=\"color: #00d7ff; text-decoration-color: #00d7ff\">None</span>, <span style=\"color: #00af00; text-decoration-color: #00af00\">11</span>)        │      <span style=\"color: #00af00; text-decoration-color: #00af00\">2,827</span> │ dropout[<span style=\"color: #00af00; text-decoration-color: #00af00\">0</span>][<span style=\"color: #00af00; text-decoration-color: #00af00\">0</span>]     │\n",
       "├─────────────────────┼───────────────────┼────────────┼───────────────────┤\n",
       "│ digit_3 (<span style=\"color: #0087ff; text-decoration-color: #0087ff\">Dense</span>)     │ (<span style=\"color: #00d7ff; text-decoration-color: #00d7ff\">None</span>, <span style=\"color: #00af00; text-decoration-color: #00af00\">11</span>)        │      <span style=\"color: #00af00; text-decoration-color: #00af00\">2,827</span> │ dropout[<span style=\"color: #00af00; text-decoration-color: #00af00\">0</span>][<span style=\"color: #00af00; text-decoration-color: #00af00\">0</span>]     │\n",
       "├─────────────────────┼───────────────────┼────────────┼───────────────────┤\n",
       "│ digit_4 (<span style=\"color: #0087ff; text-decoration-color: #0087ff\">Dense</span>)     │ (<span style=\"color: #00d7ff; text-decoration-color: #00d7ff\">None</span>, <span style=\"color: #00af00; text-decoration-color: #00af00\">11</span>)        │      <span style=\"color: #00af00; text-decoration-color: #00af00\">2,827</span> │ dropout[<span style=\"color: #00af00; text-decoration-color: #00af00\">0</span>][<span style=\"color: #00af00; text-decoration-color: #00af00\">0</span>]     │\n",
       "└─────────────────────┴───────────────────┴────────────┴───────────────────┘\n",
       "</pre>\n"
      ],
      "text/plain": [
       "┏━━━━━━━━━━━━━━━━━━━━━┳━━━━━━━━━━━━━━━━━━━┳━━━━━━━━━━━━┳━━━━━━━━━━━━━━━━━━━┓\n",
       "┃\u001b[1m \u001b[0m\u001b[1mLayer (type)       \u001b[0m\u001b[1m \u001b[0m┃\u001b[1m \u001b[0m\u001b[1mOutput Shape     \u001b[0m\u001b[1m \u001b[0m┃\u001b[1m \u001b[0m\u001b[1m   Param #\u001b[0m\u001b[1m \u001b[0m┃\u001b[1m \u001b[0m\u001b[1mConnected to     \u001b[0m\u001b[1m \u001b[0m┃\n",
       "┡━━━━━━━━━━━━━━━━━━━━━╇━━━━━━━━━━━━━━━━━━━╇━━━━━━━━━━━━╇━━━━━━━━━━━━━━━━━━━┩\n",
       "│ input_layer         │ (\u001b[38;5;45mNone\u001b[0m, \u001b[38;5;34m64\u001b[0m, \u001b[38;5;34m64\u001b[0m, \u001b[38;5;34m1\u001b[0m) │          \u001b[38;5;34m0\u001b[0m │ -                 │\n",
       "│ (\u001b[38;5;33mInputLayer\u001b[0m)        │                   │            │                   │\n",
       "├─────────────────────┼───────────────────┼────────────┼───────────────────┤\n",
       "│ conv2d (\u001b[38;5;33mConv2D\u001b[0m)     │ (\u001b[38;5;45mNone\u001b[0m, \u001b[38;5;34m64\u001b[0m, \u001b[38;5;34m64\u001b[0m,    │        \u001b[38;5;34m576\u001b[0m │ input_layer[\u001b[38;5;34m0\u001b[0m][\u001b[38;5;34m0\u001b[0m] │\n",
       "│                     │ \u001b[38;5;34m64\u001b[0m)               │            │                   │\n",
       "├─────────────────────┼───────────────────┼────────────┼───────────────────┤\n",
       "│ batch_normalization │ (\u001b[38;5;45mNone\u001b[0m, \u001b[38;5;34m64\u001b[0m, \u001b[38;5;34m64\u001b[0m,    │        \u001b[38;5;34m256\u001b[0m │ conv2d[\u001b[38;5;34m0\u001b[0m][\u001b[38;5;34m0\u001b[0m]      │\n",
       "│ (\u001b[38;5;33mBatchNormalizatio…\u001b[0m │ \u001b[38;5;34m64\u001b[0m)               │            │                   │\n",
       "├─────────────────────┼───────────────────┼────────────┼───────────────────┤\n",
       "│ activation          │ (\u001b[38;5;45mNone\u001b[0m, \u001b[38;5;34m64\u001b[0m, \u001b[38;5;34m64\u001b[0m,    │          \u001b[38;5;34m0\u001b[0m │ batch_normalizat… │\n",
       "│ (\u001b[38;5;33mActivation\u001b[0m)        │ \u001b[38;5;34m64\u001b[0m)               │            │                   │\n",
       "├─────────────────────┼───────────────────┼────────────┼───────────────────┤\n",
       "│ max_pooling2d       │ (\u001b[38;5;45mNone\u001b[0m, \u001b[38;5;34m32\u001b[0m, \u001b[38;5;34m32\u001b[0m,    │          \u001b[38;5;34m0\u001b[0m │ activation[\u001b[38;5;34m0\u001b[0m][\u001b[38;5;34m0\u001b[0m]  │\n",
       "│ (\u001b[38;5;33mMaxPooling2D\u001b[0m)      │ \u001b[38;5;34m64\u001b[0m)               │            │                   │\n",
       "├─────────────────────┼───────────────────┼────────────┼───────────────────┤\n",
       "│ conv2d_1 (\u001b[38;5;33mConv2D\u001b[0m)   │ (\u001b[38;5;45mNone\u001b[0m, \u001b[38;5;34m32\u001b[0m, \u001b[38;5;34m32\u001b[0m,    │     \u001b[38;5;34m73,728\u001b[0m │ max_pooling2d[\u001b[38;5;34m0\u001b[0m]… │\n",
       "│                     │ \u001b[38;5;34m128\u001b[0m)              │            │                   │\n",
       "├─────────────────────┼───────────────────┼────────────┼───────────────────┤\n",
       "│ batch_normalizatio… │ (\u001b[38;5;45mNone\u001b[0m, \u001b[38;5;34m32\u001b[0m, \u001b[38;5;34m32\u001b[0m,    │        \u001b[38;5;34m512\u001b[0m │ conv2d_1[\u001b[38;5;34m0\u001b[0m][\u001b[38;5;34m0\u001b[0m]    │\n",
       "│ (\u001b[38;5;33mBatchNormalizatio…\u001b[0m │ \u001b[38;5;34m128\u001b[0m)              │            │                   │\n",
       "├─────────────────────┼───────────────────┼────────────┼───────────────────┤\n",
       "│ activation_1        │ (\u001b[38;5;45mNone\u001b[0m, \u001b[38;5;34m32\u001b[0m, \u001b[38;5;34m32\u001b[0m,    │          \u001b[38;5;34m0\u001b[0m │ batch_normalizat… │\n",
       "│ (\u001b[38;5;33mActivation\u001b[0m)        │ \u001b[38;5;34m128\u001b[0m)              │            │                   │\n",
       "├─────────────────────┼───────────────────┼────────────┼───────────────────┤\n",
       "│ max_pooling2d_1     │ (\u001b[38;5;45mNone\u001b[0m, \u001b[38;5;34m16\u001b[0m, \u001b[38;5;34m16\u001b[0m,    │          \u001b[38;5;34m0\u001b[0m │ activation_1[\u001b[38;5;34m0\u001b[0m][\u001b[38;5;34m…\u001b[0m │\n",
       "│ (\u001b[38;5;33mMaxPooling2D\u001b[0m)      │ \u001b[38;5;34m128\u001b[0m)              │            │                   │\n",
       "├─────────────────────┼───────────────────┼────────────┼───────────────────┤\n",
       "│ conv2d_2 (\u001b[38;5;33mConv2D\u001b[0m)   │ (\u001b[38;5;45mNone\u001b[0m, \u001b[38;5;34m16\u001b[0m, \u001b[38;5;34m16\u001b[0m,    │    \u001b[38;5;34m294,912\u001b[0m │ max_pooling2d_1[\u001b[38;5;34m…\u001b[0m │\n",
       "│                     │ \u001b[38;5;34m256\u001b[0m)              │            │                   │\n",
       "├─────────────────────┼───────────────────┼────────────┼───────────────────┤\n",
       "│ batch_normalizatio… │ (\u001b[38;5;45mNone\u001b[0m, \u001b[38;5;34m16\u001b[0m, \u001b[38;5;34m16\u001b[0m,    │      \u001b[38;5;34m1,024\u001b[0m │ conv2d_2[\u001b[38;5;34m0\u001b[0m][\u001b[38;5;34m0\u001b[0m]    │\n",
       "│ (\u001b[38;5;33mBatchNormalizatio…\u001b[0m │ \u001b[38;5;34m256\u001b[0m)              │            │                   │\n",
       "├─────────────────────┼───────────────────┼────────────┼───────────────────┤\n",
       "│ activation_2        │ (\u001b[38;5;45mNone\u001b[0m, \u001b[38;5;34m16\u001b[0m, \u001b[38;5;34m16\u001b[0m,    │          \u001b[38;5;34m0\u001b[0m │ batch_normalizat… │\n",
       "│ (\u001b[38;5;33mActivation\u001b[0m)        │ \u001b[38;5;34m256\u001b[0m)              │            │                   │\n",
       "├─────────────────────┼───────────────────┼────────────┼───────────────────┤\n",
       "│ max_pooling2d_2     │ (\u001b[38;5;45mNone\u001b[0m, \u001b[38;5;34m8\u001b[0m, \u001b[38;5;34m8\u001b[0m, \u001b[38;5;34m256\u001b[0m) │          \u001b[38;5;34m0\u001b[0m │ activation_2[\u001b[38;5;34m0\u001b[0m][\u001b[38;5;34m…\u001b[0m │\n",
       "│ (\u001b[38;5;33mMaxPooling2D\u001b[0m)      │                   │            │                   │\n",
       "├─────────────────────┼───────────────────┼────────────┼───────────────────┤\n",
       "│ conv2d_3 (\u001b[38;5;33mConv2D\u001b[0m)   │ (\u001b[38;5;45mNone\u001b[0m, \u001b[38;5;34m8\u001b[0m, \u001b[38;5;34m8\u001b[0m, \u001b[38;5;34m512\u001b[0m) │  \u001b[38;5;34m1,179,648\u001b[0m │ max_pooling2d_2[\u001b[38;5;34m…\u001b[0m │\n",
       "├─────────────────────┼───────────────────┼────────────┼───────────────────┤\n",
       "│ batch_normalizatio… │ (\u001b[38;5;45mNone\u001b[0m, \u001b[38;5;34m8\u001b[0m, \u001b[38;5;34m8\u001b[0m, \u001b[38;5;34m512\u001b[0m) │      \u001b[38;5;34m2,048\u001b[0m │ conv2d_3[\u001b[38;5;34m0\u001b[0m][\u001b[38;5;34m0\u001b[0m]    │\n",
       "│ (\u001b[38;5;33mBatchNormalizatio…\u001b[0m │                   │            │                   │\n",
       "├─────────────────────┼───────────────────┼────────────┼───────────────────┤\n",
       "│ activation_3        │ (\u001b[38;5;45mNone\u001b[0m, \u001b[38;5;34m8\u001b[0m, \u001b[38;5;34m8\u001b[0m, \u001b[38;5;34m512\u001b[0m) │          \u001b[38;5;34m0\u001b[0m │ batch_normalizat… │\n",
       "│ (\u001b[38;5;33mActivation\u001b[0m)        │                   │            │                   │\n",
       "├─────────────────────┼───────────────────┼────────────┼───────────────────┤\n",
       "│ max_pooling2d_3     │ (\u001b[38;5;45mNone\u001b[0m, \u001b[38;5;34m4\u001b[0m, \u001b[38;5;34m4\u001b[0m, \u001b[38;5;34m512\u001b[0m) │          \u001b[38;5;34m0\u001b[0m │ activation_3[\u001b[38;5;34m0\u001b[0m][\u001b[38;5;34m…\u001b[0m │\n",
       "│ (\u001b[38;5;33mMaxPooling2D\u001b[0m)      │                   │            │                   │\n",
       "├─────────────────────┼───────────────────┼────────────┼───────────────────┤\n",
       "│ global_average_poo… │ (\u001b[38;5;45mNone\u001b[0m, \u001b[38;5;34m512\u001b[0m)       │          \u001b[38;5;34m0\u001b[0m │ max_pooling2d_3[\u001b[38;5;34m…\u001b[0m │\n",
       "│ (\u001b[38;5;33mGlobalAveragePool…\u001b[0m │                   │            │                   │\n",
       "├─────────────────────┼───────────────────┼────────────┼───────────────────┤\n",
       "│ dense (\u001b[38;5;33mDense\u001b[0m)       │ (\u001b[38;5;45mNone\u001b[0m, \u001b[38;5;34m256\u001b[0m)       │    \u001b[38;5;34m131,328\u001b[0m │ global_average_p… │\n",
       "├─────────────────────┼───────────────────┼────────────┼───────────────────┤\n",
       "│ dropout (\u001b[38;5;33mDropout\u001b[0m)   │ (\u001b[38;5;45mNone\u001b[0m, \u001b[38;5;34m256\u001b[0m)       │          \u001b[38;5;34m0\u001b[0m │ dense[\u001b[38;5;34m0\u001b[0m][\u001b[38;5;34m0\u001b[0m]       │\n",
       "├─────────────────────┼───────────────────┼────────────┼───────────────────┤\n",
       "│ digit_0 (\u001b[38;5;33mDense\u001b[0m)     │ (\u001b[38;5;45mNone\u001b[0m, \u001b[38;5;34m11\u001b[0m)        │      \u001b[38;5;34m2,827\u001b[0m │ dropout[\u001b[38;5;34m0\u001b[0m][\u001b[38;5;34m0\u001b[0m]     │\n",
       "├─────────────────────┼───────────────────┼────────────┼───────────────────┤\n",
       "│ digit_1 (\u001b[38;5;33mDense\u001b[0m)     │ (\u001b[38;5;45mNone\u001b[0m, \u001b[38;5;34m11\u001b[0m)        │      \u001b[38;5;34m2,827\u001b[0m │ dropout[\u001b[38;5;34m0\u001b[0m][\u001b[38;5;34m0\u001b[0m]     │\n",
       "├─────────────────────┼───────────────────┼────────────┼───────────────────┤\n",
       "│ digit_2 (\u001b[38;5;33mDense\u001b[0m)     │ (\u001b[38;5;45mNone\u001b[0m, \u001b[38;5;34m11\u001b[0m)        │      \u001b[38;5;34m2,827\u001b[0m │ dropout[\u001b[38;5;34m0\u001b[0m][\u001b[38;5;34m0\u001b[0m]     │\n",
       "├─────────────────────┼───────────────────┼────────────┼───────────────────┤\n",
       "│ digit_3 (\u001b[38;5;33mDense\u001b[0m)     │ (\u001b[38;5;45mNone\u001b[0m, \u001b[38;5;34m11\u001b[0m)        │      \u001b[38;5;34m2,827\u001b[0m │ dropout[\u001b[38;5;34m0\u001b[0m][\u001b[38;5;34m0\u001b[0m]     │\n",
       "├─────────────────────┼───────────────────┼────────────┼───────────────────┤\n",
       "│ digit_4 (\u001b[38;5;33mDense\u001b[0m)     │ (\u001b[38;5;45mNone\u001b[0m, \u001b[38;5;34m11\u001b[0m)        │      \u001b[38;5;34m2,827\u001b[0m │ dropout[\u001b[38;5;34m0\u001b[0m][\u001b[38;5;34m0\u001b[0m]     │\n",
       "└─────────────────────┴───────────────────┴────────────┴───────────────────┘\n"
      ]
     },
     "metadata": {},
     "output_type": "display_data"
    },
    {
     "data": {
      "text/html": [
       "<pre style=\"white-space:pre;overflow-x:auto;line-height:normal;font-family:Menlo,'DejaVu Sans Mono',consolas,'Courier New',monospace\"><span style=\"font-weight: bold\"> Total params: </span><span style=\"color: #00af00; text-decoration-color: #00af00\">1,698,167</span> (6.48 MB)\n",
       "</pre>\n"
      ],
      "text/plain": [
       "\u001b[1m Total params: \u001b[0m\u001b[38;5;34m1,698,167\u001b[0m (6.48 MB)\n"
      ]
     },
     "metadata": {},
     "output_type": "display_data"
    },
    {
     "data": {
      "text/html": [
       "<pre style=\"white-space:pre;overflow-x:auto;line-height:normal;font-family:Menlo,'DejaVu Sans Mono',consolas,'Courier New',monospace\"><span style=\"font-weight: bold\"> Trainable params: </span><span style=\"color: #00af00; text-decoration-color: #00af00\">1,696,247</span> (6.47 MB)\n",
       "</pre>\n"
      ],
      "text/plain": [
       "\u001b[1m Trainable params: \u001b[0m\u001b[38;5;34m1,696,247\u001b[0m (6.47 MB)\n"
      ]
     },
     "metadata": {},
     "output_type": "display_data"
    },
    {
     "data": {
      "text/html": [
       "<pre style=\"white-space:pre;overflow-x:auto;line-height:normal;font-family:Menlo,'DejaVu Sans Mono',consolas,'Courier New',monospace\"><span style=\"font-weight: bold\"> Non-trainable params: </span><span style=\"color: #00af00; text-decoration-color: #00af00\">1,920</span> (7.50 KB)\n",
       "</pre>\n"
      ],
      "text/plain": [
       "\u001b[1m Non-trainable params: \u001b[0m\u001b[38;5;34m1,920\u001b[0m (7.50 KB)\n"
      ]
     },
     "metadata": {},
     "output_type": "display_data"
    }
   ],
   "source": [
    "from tensorflow.keras.layers import Input, Conv2D,AveragePooling2D, GlobalAveragePooling2D, MaxPool2D, MaxPooling2D, Dense, Dropout, BatchNormalization, Activation, Flatten\n",
    "from tensorflow.keras.models import Model\n",
    "\n",
    "img_rows, img_cols, img_channels = 64, 64, 1  # Размер изображения\n",
    "nb_classes = 11  # 10 цифр + 1 класс \"пусто\"\n",
    "num_digits = 5  # Количество цифр в одном изображении\n",
    "\n",
    "# Входной слой\n",
    "inputs = Input(shape=(img_rows, img_cols, img_channels))\n",
    "\n",
    "# Блок 1\n",
    "x = Conv2D(64, (3, 3), padding=\"same\", use_bias=False)(inputs)\n",
    "x = BatchNormalization()(x)\n",
    "x = Activation(\"relu\")(x)\n",
    "x = MaxPooling2D((2, 2))(x)\n",
    "\n",
    "# Блок 2\n",
    "x = Conv2D(128, (3, 3), padding=\"same\", use_bias=False)(x)\n",
    "x = BatchNormalization()(x)\n",
    "x = Activation(\"relu\")(x)\n",
    "x = MaxPooling2D((2, 2))(x)\n",
    "\n",
    "# Блок 3\n",
    "x = Conv2D(256, (3, 3), padding=\"same\", use_bias=False)(x)\n",
    "x = BatchNormalization()(x)\n",
    "x = Activation(\"relu\")(x)\n",
    "x = MaxPooling2D((2, 2))(x)\n",
    "\n",
    "# Блок 4\n",
    "x = Conv2D(512, (3, 3), padding=\"same\", use_bias=False)(x)\n",
    "x = BatchNormalization()(x)\n",
    "x = Activation(\"relu\")(x)\n",
    "x = MaxPooling2D((2, 2))(x)\n",
    "\n",
    "# Глобальный усредненный пулинг\n",
    "x = GlobalAveragePooling2D()(x)\n",
    "\n",
    "# Полносвязный слой\n",
    "x = Dense(256, activation=\"relu\")(x)\n",
    "x = Dropout(0.3)(x)\n",
    "# Финальные выходы для 5 цифр\n",
    "outputs = []\n",
    "\n",
    "for i in range(5):\n",
    "    outputs.append(Dense(nb_classes, activation='softmax', name=f'digit_{i}')(x))\n",
    "\n",
    "# Создаем модель\n",
    "model = Model(inputs=inputs, outputs=outputs)\n",
    "\n",
    "# Выводим summary модели\n",
    "model.summary()"
   ]
  },
  {
   "cell_type": "code",
   "execution_count": 18,
   "id": "c98078cc-cdd5-4990-ae2e-1c762b275ef7",
   "metadata": {},
   "outputs": [],
   "source": [
    "model.compile(loss='categorical_crossentropy', \n",
    "              optimizer='adam', \n",
    "              metrics=['accuracy', 'accuracy', 'accuracy', 'accuracy', 'accuracy'])"
   ]
  },
  {
   "cell_type": "code",
   "execution_count": 34,
   "id": "36e80794-614e-4340-973e-86e39697058b",
   "metadata": {},
   "outputs": [],
   "source": [
    "def show_history_plot(history):\n",
    "    fig = plt.figure(figsize=(15, 4))\n",
    "\n",
    "    # График точности (accuracy)\n",
    "    fig.add_subplot(121)\n",
    "    # for i in range(5):\n",
    "    plt.plot(history.history[f'digit_0_accuracy'])\n",
    "    plt.plot(history.history[f'val_digit_0_accuracy'])\n",
    "    # plt.plot(history.history['val_accuracy'], '--', color='black', linewidth=1.5)  # Валидационная общая\n",
    "    plt.legend(['Training accuracy', 'Validation accuracy'])\n",
    "    plt.title('Training accuracy for the first digit')\n",
    "    plt.xlabel('Epoch Number')\n",
    "    plt.ylabel('Accuracy')\n",
    "\n",
    "    # График ошибки (loss)\n",
    "    fig.add_subplot(122)\n",
    "    # for i in range(5):\n",
    "    plt.plot(history.history[f'digit_0_loss'])\n",
    "    plt.plot(history.history[f'val_digit_0_loss'])\n",
    "    # plt.plot(history.history['val_loss'], '--', color='black', linewidth=1.5)  # Валидационная общая\n",
    "    plt.legend(['Training loss', 'Validation loss'])\n",
    "    plt.title('Training loss for the first digit')\n",
    "    plt.xlabel('Epoch Number')\n",
    "    plt.ylabel('Loss')\n",
    "\n",
    "    plt.show()"
   ]
  },
  {
   "cell_type": "code",
   "execution_count": 20,
   "id": "a782f11b-2aa2-4a82-b0c6-94083dbcb428",
   "metadata": {},
   "outputs": [
    {
     "name": "stdout",
     "output_type": "stream",
     "text": [
      "Epoch 1/10\n",
      "\u001b[1m836/836\u001b[0m \u001b[32m━━━━━━━━━━━━━━━━━━━━\u001b[0m\u001b[37m\u001b[0m \u001b[1m463s\u001b[0m 551ms/step - digit_0_accuracy: 0.4347 - digit_0_loss: 1.5936 - digit_1_accuracy: 0.3442 - digit_1_loss: 1.8411 - digit_2_accuracy: 0.7131 - digit_2_loss: 1.1669 - digit_3_accuracy: 0.9538 - digit_3_loss: 0.2906 - digit_4_accuracy: 0.9921 - digit_4_loss: 0.0373 - loss: 4.9295 - val_digit_0_accuracy: 0.4616 - val_digit_0_loss: 1.5421 - val_digit_1_accuracy: 0.3786 - val_digit_1_loss: 1.8201 - val_digit_2_accuracy: 0.7173 - val_digit_2_loss: 1.1939 - val_digit_3_accuracy: 0.9588 - val_digit_3_loss: 0.2560 - val_digit_4_accuracy: 0.9998 - val_digit_4_loss: 0.0024 - val_loss: 4.8141\n",
      "Epoch 2/10\n",
      "\u001b[1m836/836\u001b[0m \u001b[32m━━━━━━━━━━━━━━━━━━━━\u001b[0m\u001b[37m\u001b[0m \u001b[1m487s\u001b[0m 583ms/step - digit_0_accuracy: 0.5216 - digit_0_loss: 1.3959 - digit_1_accuracy: 0.4179 - digit_1_loss: 1.6568 - digit_2_accuracy: 0.7254 - digit_2_loss: 1.0158 - digit_3_accuracy: 0.9591 - digit_3_loss: 0.2263 - digit_4_accuracy: 0.9997 - digit_4_loss: 0.0047 - loss: 4.2994 - val_digit_0_accuracy: 0.2715 - val_digit_0_loss: 2.2192 - val_digit_1_accuracy: 0.3846 - val_digit_1_loss: 1.9284 - val_digit_2_accuracy: 0.7175 - val_digit_2_loss: 1.1407 - val_digit_3_accuracy: 0.9588 - val_digit_3_loss: 0.2298 - val_digit_4_accuracy: 0.9998 - val_digit_4_loss: 0.0024 - val_loss: 5.5202\n",
      "Epoch 3/10\n",
      "\u001b[1m836/836\u001b[0m \u001b[32m━━━━━━━━━━━━━━━━━━━━\u001b[0m\u001b[37m\u001b[0m \u001b[1m491s\u001b[0m 588ms/step - digit_0_accuracy: 0.6089 - digit_0_loss: 1.1511 - digit_1_accuracy: 0.4735 - digit_1_loss: 1.5288 - digit_2_accuracy: 0.7330 - digit_2_loss: 0.9744 - digit_3_accuracy: 0.9560 - digit_3_loss: 0.2357 - digit_4_accuracy: 0.9996 - digit_4_loss: 0.0045 - loss: 3.8945 - val_digit_0_accuracy: 0.6374 - val_digit_0_loss: 1.0413 - val_digit_1_accuracy: 0.4971 - val_digit_1_loss: 1.4645 - val_digit_2_accuracy: 0.7308 - val_digit_2_loss: 0.9558 - val_digit_3_accuracy: 0.9588 - val_digit_3_loss: 0.2225 - val_digit_4_accuracy: 0.9998 - val_digit_4_loss: 0.0026 - val_loss: 3.6857\n",
      "Epoch 4/10\n",
      "\u001b[1m836/836\u001b[0m \u001b[32m━━━━━━━━━━━━━━━━━━━━\u001b[0m\u001b[37m\u001b[0m \u001b[1m492s\u001b[0m 588ms/step - digit_0_accuracy: 0.6946 - digit_0_loss: 0.8898 - digit_1_accuracy: 0.5454 - digit_1_loss: 1.3352 - digit_2_accuracy: 0.7330 - digit_2_loss: 0.9519 - digit_3_accuracy: 0.9570 - digit_3_loss: 0.2233 - digit_4_accuracy: 0.9998 - digit_4_loss: 0.0028 - loss: 3.4030 - val_digit_0_accuracy: 0.6827 - val_digit_0_loss: 1.3139 - val_digit_1_accuracy: 0.5212 - val_digit_1_loss: 1.4891 - val_digit_2_accuracy: 0.7252 - val_digit_2_loss: 1.0256 - val_digit_3_accuracy: 0.9588 - val_digit_3_loss: 0.2298 - val_digit_4_accuracy: 0.9998 - val_digit_4_loss: 0.0059 - val_loss: 4.0637\n",
      "Epoch 5/10\n",
      "\u001b[1m836/836\u001b[0m \u001b[32m━━━━━━━━━━━━━━━━━━━━\u001b[0m\u001b[37m\u001b[0m \u001b[1m499s\u001b[0m 596ms/step - digit_0_accuracy: 0.7464 - digit_0_loss: 0.7475 - digit_1_accuracy: 0.5991 - digit_1_loss: 1.1841 - digit_2_accuracy: 0.7433 - digit_2_loss: 0.9162 - digit_3_accuracy: 0.9566 - digit_3_loss: 0.2213 - digit_4_accuracy: 0.9997 - digit_4_loss: 0.0038 - loss: 3.0729 - val_digit_0_accuracy: 0.7175 - val_digit_0_loss: 0.8032 - val_digit_1_accuracy: 0.6062 - val_digit_1_loss: 1.1759 - val_digit_2_accuracy: 0.7425 - val_digit_2_loss: 0.9059 - val_digit_3_accuracy: 0.9588 - val_digit_3_loss: 0.2069 - val_digit_4_accuracy: 0.9998 - val_digit_4_loss: 0.0024 - val_loss: 3.0937\n",
      "Epoch 6/10\n",
      "\u001b[1m836/836\u001b[0m \u001b[32m━━━━━━━━━━━━━━━━━━━━\u001b[0m\u001b[37m\u001b[0m \u001b[1m503s\u001b[0m 602ms/step - digit_0_accuracy: 0.8034 - digit_0_loss: 0.5908 - digit_1_accuracy: 0.6575 - digit_1_loss: 1.0423 - digit_2_accuracy: 0.7474 - digit_2_loss: 0.8992 - digit_3_accuracy: 0.9565 - digit_3_loss: 0.2145 - digit_4_accuracy: 0.9998 - digit_4_loss: 0.0028 - loss: 2.7495 - val_digit_0_accuracy: 0.7982 - val_digit_0_loss: 0.6296 - val_digit_1_accuracy: 0.6895 - val_digit_1_loss: 0.9976 - val_digit_2_accuracy: 0.7237 - val_digit_2_loss: 0.9658 - val_digit_3_accuracy: 0.9588 - val_digit_3_loss: 0.2247 - val_digit_4_accuracy: 0.9998 - val_digit_4_loss: 0.0023 - val_loss: 2.8190\n",
      "Epoch 7/10\n",
      "\u001b[1m836/836\u001b[0m \u001b[32m━━━━━━━━━━━━━━━━━━━━\u001b[0m\u001b[37m\u001b[0m \u001b[1m508s\u001b[0m 608ms/step - digit_0_accuracy: 0.8370 - digit_0_loss: 0.4988 - digit_1_accuracy: 0.6995 - digit_1_loss: 0.9325 - digit_2_accuracy: 0.7547 - digit_2_loss: 0.8764 - digit_3_accuracy: 0.9586 - digit_3_loss: 0.2026 - digit_4_accuracy: 0.9996 - digit_4_loss: 0.0039 - loss: 2.5143 - val_digit_0_accuracy: 0.8404 - val_digit_0_loss: 0.5041 - val_digit_1_accuracy: 0.7416 - val_digit_1_loss: 0.8317 - val_digit_2_accuracy: 0.7568 - val_digit_2_loss: 0.9118 - val_digit_3_accuracy: 0.9588 - val_digit_3_loss: 0.2293 - val_digit_4_accuracy: 0.9998 - val_digit_4_loss: 0.0028 - val_loss: 2.4787\n",
      "Epoch 8/10\n",
      "\u001b[1m836/836\u001b[0m \u001b[32m━━━━━━━━━━━━━━━━━━━━\u001b[0m\u001b[37m\u001b[0m \u001b[1m509s\u001b[0m 609ms/step - digit_0_accuracy: 0.8558 - digit_0_loss: 0.4467 - digit_1_accuracy: 0.7305 - digit_1_loss: 0.8405 - digit_2_accuracy: 0.7610 - digit_2_loss: 0.8500 - digit_3_accuracy: 0.9578 - digit_3_loss: 0.2062 - digit_4_accuracy: 0.9998 - digit_4_loss: 0.0018 - loss: 2.3452 - val_digit_0_accuracy: 0.8612 - val_digit_0_loss: 0.4406 - val_digit_1_accuracy: 0.7570 - val_digit_1_loss: 0.7890 - val_digit_2_accuracy: 0.7877 - val_digit_2_loss: 0.8163 - val_digit_3_accuracy: 0.9588 - val_digit_3_loss: 0.1979 - val_digit_4_accuracy: 0.9998 - val_digit_4_loss: 0.0023 - val_loss: 2.2454\n",
      "Epoch 9/10\n",
      "\u001b[1m836/836\u001b[0m \u001b[32m━━━━━━━━━━━━━━━━━━━━\u001b[0m\u001b[37m\u001b[0m \u001b[1m511s\u001b[0m 611ms/step - digit_0_accuracy: 0.8676 - digit_0_loss: 0.4147 - digit_1_accuracy: 0.7529 - digit_1_loss: 0.7833 - digit_2_accuracy: 0.7713 - digit_2_loss: 0.8280 - digit_3_accuracy: 0.9563 - digit_3_loss: 0.2091 - digit_4_accuracy: 0.9997 - digit_4_loss: 0.0027 - loss: 2.2379 - val_digit_0_accuracy: 0.8757 - val_digit_0_loss: 0.3924 - val_digit_1_accuracy: 0.7749 - val_digit_1_loss: 0.7355 - val_digit_2_accuracy: 0.7659 - val_digit_2_loss: 0.8413 - val_digit_3_accuracy: 0.9588 - val_digit_3_loss: 0.1994 - val_digit_4_accuracy: 0.9998 - val_digit_4_loss: 0.0019 - val_loss: 2.1695\n",
      "Epoch 10/10\n",
      "\u001b[1m836/836\u001b[0m \u001b[32m━━━━━━━━━━━━━━━━━━━━\u001b[0m\u001b[37m\u001b[0m \u001b[1m513s\u001b[0m 614ms/step - digit_0_accuracy: 0.8844 - digit_0_loss: 0.3516 - digit_1_accuracy: 0.7829 - digit_1_loss: 0.6881 - digit_2_accuracy: 0.7865 - digit_2_loss: 0.7831 - digit_3_accuracy: 0.9578 - digit_3_loss: 0.1982 - digit_4_accuracy: 0.9996 - digit_4_loss: 0.0028 - loss: 2.0239 - val_digit_0_accuracy: 0.8811 - val_digit_0_loss: 0.3923 - val_digit_1_accuracy: 0.7895 - val_digit_1_loss: 0.6949 - val_digit_2_accuracy: 0.8166 - val_digit_2_loss: 0.7571 - val_digit_3_accuracy: 0.9609 - val_digit_3_loss: 0.1919 - val_digit_4_accuracy: 0.9998 - val_digit_4_loss: 0.0024 - val_loss: 2.0378\n"
     ]
    }
   ],
   "source": [
    "history = model.fit(\n",
    "    x_train, y_train, \n",
    "    batch_size=64, \n",
    "    epochs=10, \n",
    "    validation_data=(x_val, y_val)\n",
    ")"
   ]
  },
  {
   "cell_type": "code",
   "execution_count": 35,
   "id": "fc92c290-78a8-4bc6-a738-0e17604f4bc6",
   "metadata": {},
   "outputs": [
    {
     "data": {
      "image/png": "[encoded data removed]",
      "text/plain": [
       "<Figure size 1500x400 with 2 Axes>"
      ]
     },
     "metadata": {},
     "output_type": "display_data"
    }
   ],
   "source": [
    "show_history_plot(history)"
   ]
  },
  {
   "cell_type": "code",
   "execution_count": 21,
   "id": "a61b9267-ceba-44cf-8435-54c1076150cb",
   "metadata": {},
   "outputs": [
    {
     "name": "stdout",
     "output_type": "stream",
     "text": [
      "\u001b[1m409/409\u001b[0m \u001b[32m━━━━━━━━━━━━━━━━━━━━\u001b[0m\u001b[37m\u001b[0m \u001b[1m24s\u001b[0m 59ms/step - digit_0_accuracy: 0.7362 - digit_0_loss: 0.8530 - digit_1_accuracy: 0.6051 - digit_1_loss: 1.2662 - digit_2_accuracy: 0.8285 - digit_2_loss: 0.8845 - digit_3_accuracy: 0.9883 - digit_3_loss: 0.1372 - digit_4_accuracy: 0.9998 - digit_4_loss: 0.0038 - loss: 3.1447\n"
     ]
    },
    {
     "data": {
      "text/plain": [
       "[3.111164093017578,\n",
       " 0.8455580472946167,\n",
       " 1.2432467937469482,\n",
       " 0.8819838762283325,\n",
       " 0.13694901764392853,\n",
       " 0.0036479628179222345,\n",
       " 0.7372972369194031,\n",
       " 0.619911253452301,\n",
       " 0.8278236985206604,\n",
       " 0.9884450435638428,\n",
       " 0.9998469352722168]"
      ]
     },
     "execution_count": 21,
     "metadata": {},
     "output_type": "execute_result"
    }
   ],
   "source": [
    "model.evaluate(x_test, y_test)\n",
    "# print('Classification accuracy on test set: ', test_acc)"
   ]
  },
  {
   "cell_type": "markdown",
   "id": "aaf7b4a4-3843-468b-9132-0179a27f7108",
   "metadata": {},
   "source": [
    "## Выводы\n",
    "\n",
    "По сравнению с реализованными ранее моделями, обученными на notMNIST датасете точность сильно уменьшилась. Это связанно с тем, что реальные данные гораздо сложнее и в них гораздо больше помех, шума, признаков. Модель стала труднее обучаться"
   ]
  },
  {
   "cell_type": "markdown",
   "id": "6953435a-ec3b-4c75-8efe-ba6c6f1b5978",
   "metadata": {},
   "source": [
    "## Сохранение модели для мобильного приложения"
   ]
  },
  {
   "cell_type": "code",
   "execution_count": 74,
   "id": "7cfe0186-1c90-437c-821d-4cd7cbe7037c",
   "metadata": {},
   "outputs": [
    {
     "name": "stdout",
     "output_type": "stream",
     "text": [
      "INFO:tensorflow:Assets written to: /tmp/tmpdhxytkux/assets\n"
     ]
    },
    {
     "name": "stderr",
     "output_type": "stream",
     "text": [
      "INFO:tensorflow:Assets written to: /tmp/tmpdhxytkux/assets\n"
     ]
    },
    {
     "name": "stdout",
     "output_type": "stream",
     "text": [
      "Saved artifact at '/tmp/tmpdhxytkux'. The following endpoints are available:\n",
      "\n",
      "* Endpoint 'serve'\n",
      "  args_0 (POSITIONAL_ONLY): TensorSpec(shape=(None, 64, 64, 1), dtype=tf.float32, name='keras_tensor_48')\n",
      "Output Type:\n",
      "  List[TensorSpec(shape=(None, 11), dtype=tf.float32, name=None), TensorSpec(shape=(None, 11), dtype=tf.float32, name=None), TensorSpec(shape=(None, 11), dtype=tf.float32, name=None), TensorSpec(shape=(None, 11), dtype=tf.float32, name=None), TensorSpec(shape=(None, 11), dtype=tf.float32, name=None)]\n",
      "Captures:\n",
      "  135198375966144: TensorSpec(shape=(), dtype=tf.resource, name=None)\n",
      "  135198533042944: TensorSpec(shape=(), dtype=tf.resource, name=None)\n",
      "  135198533043648: TensorSpec(shape=(), dtype=tf.resource, name=None)\n",
      "  135198375965088: TensorSpec(shape=(), dtype=tf.resource, name=None)\n",
      "  135198375964736: TensorSpec(shape=(), dtype=tf.resource, name=None)\n",
      "  135198375467136: TensorSpec(shape=(), dtype=tf.resource, name=None)\n",
      "  135198375881536: TensorSpec(shape=(), dtype=tf.resource, name=None)\n",
      "  135198375878720: TensorSpec(shape=(), dtype=tf.resource, name=None)\n",
      "  135198375882064: TensorSpec(shape=(), dtype=tf.resource, name=None)\n",
      "  135198375881712: TensorSpec(shape=(), dtype=tf.resource, name=None)\n",
      "  135198374763328: TensorSpec(shape=(), dtype=tf.resource, name=None)\n",
      "  135198382239984: TensorSpec(shape=(), dtype=tf.resource, name=None)\n",
      "  135198382240864: TensorSpec(shape=(), dtype=tf.resource, name=None)\n",
      "  135198382242448: TensorSpec(shape=(), dtype=tf.resource, name=None)\n",
      "  135198382242976: TensorSpec(shape=(), dtype=tf.resource, name=None)\n",
      "  135198372299168: TensorSpec(shape=(), dtype=tf.resource, name=None)\n",
      "  135198382233024: TensorSpec(shape=(), dtype=tf.resource, name=None)\n",
      "  135198376324080: TensorSpec(shape=(), dtype=tf.resource, name=None)\n",
      "  135198382235312: TensorSpec(shape=(), dtype=tf.resource, name=None)\n",
      "  135198382234960: TensorSpec(shape=(), dtype=tf.resource, name=None)\n",
      "  135198534270288: TensorSpec(shape=(), dtype=tf.resource, name=None)\n",
      "  135198534266944: TensorSpec(shape=(), dtype=tf.resource, name=None)\n",
      "  135198142336160: TensorSpec(shape=(), dtype=tf.resource, name=None)\n",
      "  135198142335984: TensorSpec(shape=(), dtype=tf.resource, name=None)\n",
      "  135198969971984: TensorSpec(shape=(), dtype=tf.resource, name=None)\n",
      "  135198142334400: TensorSpec(shape=(), dtype=tf.resource, name=None)\n",
      "  135198533444000: TensorSpec(shape=(), dtype=tf.resource, name=None)\n",
      "  135198533445056: TensorSpec(shape=(), dtype=tf.resource, name=None)\n",
      "  135198950273440: TensorSpec(shape=(), dtype=tf.resource, name=None)\n",
      "  135198969979296: TensorSpec(shape=(), dtype=tf.resource, name=None)\n",
      "  135198970026464: TensorSpec(shape=(), dtype=tf.resource, name=None)\n",
      "  135198534256944: TensorSpec(shape=(), dtype=tf.resource, name=None)\n"
     ]
    },
    {
     "name": "stderr",
     "output_type": "stream",
     "text": [
      "WARNING: All log messages before absl::InitializeLog() is called are written to STDERR\n",
      "W0000 00:00:1742152249.383330   40657 tf_tfl_flatbuffer_helpers.cc:392] Ignored output_format.\n",
      "W0000 00:00:1742152249.383378   40657 tf_tfl_flatbuffer_helpers.cc:395] Ignored drop_control_dependency.\n",
      "2025-03-16 20:10:49.383702: I tensorflow/cc/saved_model/reader.cc:83] Reading SavedModel from: /tmp/tmpdhxytkux\n",
      "2025-03-16 20:10:49.385122: I tensorflow/cc/saved_model/reader.cc:52] Reading meta graph with tags { serve }\n",
      "2025-03-16 20:10:49.385130: I tensorflow/cc/saved_model/reader.cc:147] Reading SavedModel debug info (if present) from: /tmp/tmpdhxytkux\n",
      "2025-03-16 20:10:49.397027: I tensorflow/compiler/mlir/mlir_graph_optimization_pass.cc:388] MLIR V1 optimization pass is not enabled\n",
      "2025-03-16 20:10:49.400160: I tensorflow/cc/saved_model/loader.cc:236] Restoring SavedModel bundle.\n",
      "2025-03-16 20:10:49.481358: I tensorflow/cc/saved_model/loader.cc:220] Running initialization op on SavedModel bundle at path: /tmp/tmpdhxytkux\n",
      "2025-03-16 20:10:49.501789: I tensorflow/cc/saved_model/loader.cc:462] SavedModel load for tags { serve }; Status: success: OK. Took 118089 microseconds.\n",
      "2025-03-16 20:10:49.548006: I tensorflow/compiler/mlir/tensorflow/utils/dump_mlir_util.cc:268] disabling MLIR crash reproducer, set env var `MLIR_CRASH_REPRODUCER_DIRECTORY` to enable.\n"
     ]
    }
   ],
   "source": [
    "# model = tf.keras.models.load_model(\"model2.keras\")\n",
    "\n",
    "converter = tf.lite.TFLiteConverter.from_keras_model(model)\n",
    "tflite_model = converter.convert()\n",
    "\n",
    "with open(\"model3.tflite\", \"wb\") as f:\n",
    "    f.write(tflite_model)"
   ]
  }
 ],
 "metadata": {
  "kernelspec": {
   "display_name": "Python 3 (ipykernel)",
   "language": "python",
   "name": "python3"
  },
  "language_info": {
   "codemirror_mode": {
    "name": "ipython",
    "version": 3
   },
   "file_extension": ".py",
   "mimetype": "text/x-python",
   "name": "python",
   "nbconvert_exporter": "python",
   "pygments_lexer": "ipython3",
   "version": "3.9.21"
  }
 },
 "nbformat": 4,
 "nbformat_minor": 5
}
